{
 "cells": [
  {
   "cell_type": "markdown",
   "id": "9778849a",
   "metadata": {},
   "source": [
    "CSC/MAT-338: Machine Learning\n",
    "Profs. McKinney and Yoon\n",
    "Fall 2025\n",
    "\n",
    "Assignment 00: Python Review\n",
    "\n",
    "This assignment will serve as a review of fundamentals of Python and a quick introduction to the use of Jupyter notebooks."
   ]
  },
  {
   "cell_type": "code",
   "execution_count": null,
   "id": "fda2b5c7",
   "metadata": {},
   "outputs": [],
   "source": [
    "from math import sqrt # This is needed to use sqrt().  It's good practice to put library imports at the top."
   ]
  },
  {
   "cell_type": "markdown",
   "id": "f6435a7d",
   "metadata": {},
   "source": [
    "TASK 1: Variables and IO\n",
    "\n",
    "In this task, define:\n",
    "- A integer variable called foo, with your choice of value\n",
    "- A floating point variable called bar, with your choice of value\n",
    "- A string variable called myname, containing your name\n",
    "\n",
    "Using the print() function, print the names, values, and types of each of the variables.  You can use either f-strings or string concatenation for the printing.\n",
    "\n",
    "Sample output:\n",
    "\n",
    "The value of foo is 3 and its type is <class 'int'>\n",
    "\n",
    "The value of bar is 3.14 and its type is <class 'float'>\n",
    "\n",
    "The value of myname is Colin and its type is <class 'str'>"
   ]
  },
  {
   "cell_type": "code",
   "id": "3c50eb62",
   "metadata": {
    "ExecuteTime": {
     "end_time": "2025-09-05T14:34:35.800Z",
     "start_time": "2025-09-05T14:34:35.788383Z"
    }
   },
   "source": [
    "# Code goes here\n",
    "import math\n",
    "\n",
    "foo = 4\n",
    "bar = 7.86\n",
    "myname = \"Arlie\"\n",
    "\n",
    "print(f\"The value of foo is {foo} and its type is {type(foo)}\")\n",
    "print(f\"The value of bar is {bar} and its type is {type(bar)}\")\n",
    "print(f\"The value of myname is {myname} and its type is {type(myname)}\")\n",
    "\n"
   ],
   "outputs": [
    {
     "name": "stdout",
     "output_type": "stream",
     "text": [
      "The value of foo is 4 and its type is <class 'int'>\n",
      "The value of bar is 7.86 and its type is <class 'float'>\n",
      "The value of myname is Arlie and its type is <class 'str'>\n"
     ]
    }
   ],
   "execution_count": 2
  },
  {
   "cell_type": "markdown",
   "id": "5a03c5ee",
   "metadata": {},
   "source": [
    "TASK 2: Control Structures\n",
    "\n",
    "Jupyter notebooks are a different way to structure a Python project.  Instead of the entire file running, notebooks allow you to run specific cells.  You can go back and re-run any cell in any order, but need to be careful to ensure variables have been defined before being used.  For example, if this cell had print(foo), but you had not already run the code cell above that defined foo, an error would occur.\n",
    "\n",
    "For this task:\n",
    "- Use a conditional to check whether the value of foo is smaller than the value of bar.  If foo is smaller than bar, print a message to this effect.  Otherwise, print a different message.\n",
    "- Use a loop to print the numbers 1 through 10, along with their squares.\n",
    "- Use another loop to print the numbers 1 through 10, along with their squares, except you should skip 7 and its square.  (Hint: use the continue instruction.  Look up what the difference is between continue and break.)"
   ]
  },
  {
   "cell_type": "code",
   "id": "12ed19f2",
   "metadata": {
    "ExecuteTime": {
     "end_time": "2025-09-05T14:45:53.344907Z",
     "start_time": "2025-09-05T14:45:53.338972Z"
    }
   },
   "source": [
    "# Code goes here\n",
    "import math\n",
    "\n",
    "if foo < bar:\n",
    "    print(f\"The value of foo is smaller than the value of bar\")\n",
    "else:\n",
    "    print(f\"The value of foo is not smaller than the value of bar\")\n",
    "\n",
    "i = 1\n",
    "for i in range(1, 11):\n",
    "    print(f\"{i} and its square is {i**2}\")\n",
    "\n",
    "i = 1\n",
    "for i in range(1, 11):\n",
    "    if i == 7:\n",
    "        continue\n",
    "    print(f\"{i} and its square is {i**2}\")\n",
    "\n",
    "\n"
   ],
   "outputs": [
    {
     "name": "stdout",
     "output_type": "stream",
     "text": [
      "The value of foo is smaller than the value of bar\n",
      "1 and its square is 1\n",
      "2 and its square is 4\n",
      "3 and its square is 9\n",
      "4 and its square is 16\n",
      "5 and its square is 25\n",
      "6 and its square is 36\n",
      "7 and its square is 49\n",
      "8 and its square is 64\n",
      "9 and its square is 81\n",
      "10 and its square is 100\n",
      "1 and its square is 1\n",
      "2 and its square is 4\n",
      "3 and its square is 9\n",
      "4 and its square is 16\n",
      "5 and its square is 25\n",
      "6 and its square is 36\n",
      "8 and its square is 64\n",
      "9 and its square is 81\n",
      "10 and its square is 100\n"
     ]
    }
   ],
   "execution_count": 5
  },
  {
   "cell_type": "markdown",
   "id": "943562eb",
   "metadata": {},
   "source": [
    " TASK 3: Functions\n",
    "\n",
    "Write a function that accepts an integer.  You may assume that the function will only ever get passed an integer 2 or larger, and so can ignore type checking.  The function should, using a loop, determine if the integer given is prime.  If so, it should return True.  Otherwise, it should return False.  (Hint: you can use the % operator to check the remainder upon division by various numbers.  For primes, you need only check integers from 2 to the floor of the square root of the number.).  Demonstrate that your function works correctly by passing it a few prime numbers and a few composite (non-prime) numbers.\n",
    "\n",
    "Sample output: \n",
    "\n",
    "Is the number 3 prime?: True"
   ]
  },
  {
   "cell_type": "code",
   "id": "903c54f5",
   "metadata": {
    "ExecuteTime": {
     "end_time": "2025-09-05T21:58:58.971126Z",
     "start_time": "2025-09-05T21:58:55.599411Z"
    }
   },
   "source": [
    "import math\n",
    "\n",
    "num = input(\"Enter a number: \")\n",
    "num = int(num)\n",
    "\n",
    "def isPrime(num: int) -> bool: # Notice how here I've specified that the input should be an int and the return value should be a bool\n",
    "    for i in range(2, num):\n",
    "        if num % i == 0:\n",
    "            print(f\"{num} is not prime\")\n",
    "            return False\n",
    "        else:\n",
    "            print(f\"{num} is prime\")\n",
    "    return True\n",
    "\n",
    "isPrime(num)\n",
    "\n",
    "\n",
    "\n",
    "\n",
    "\n"
   ],
   "outputs": [
    {
     "name": "stdout",
     "output_type": "stream",
     "text": [
      "3 is prime\n"
     ]
    },
    {
     "data": {
      "text/plain": [
       "True"
      ]
     },
     "execution_count": 27,
     "metadata": {},
     "output_type": "execute_result"
    }
   ],
   "execution_count": 27
  },
  {
   "cell_type": "markdown",
   "id": "9b981b0f",
   "metadata": {},
   "source": [
    "TASK 4: Object-oriented Programming"
   ]
  },
  {
   "cell_type": "markdown",
   "id": "4143d132",
   "metadata": {},
   "source": [
    "Define two objects, called Vertex and Triangle.  A vertex will be a pair of coordinates, for its x and y coordinates.  A triangle will be an object having three Vertex objects within it.  The Triangle class should also have a property called Area, and a method to compute and return the area.  To compute the area of a triangle given only its three vertices, you will need to write a Distance function that returns the distance between two vertices, then use Heron's formula: https://en.wikipedia.org/wiki/Heron%27s_formula"
   ]
  },
  {
   "cell_type": "code",
   "id": "af918624",
   "metadata": {
    "ExecuteTime": {
     "end_time": "2025-09-05T20:42:02.307976Z",
     "start_time": "2025-09-05T20:42:02.302630Z"
    }
   },
   "source": [
    "class Vertex:\n",
    "    def __init__(self, x: float, y: float):\n",
    "        self.x = x\n",
    "        self.y = y\n",
    "\n",
    "\n",
    "def Distance(v1: Vertex, v2: Vertex):\n",
    "    return math.sqrt((v1.x - v2.x) ** 2 + (v1.y - v2.y) ** 2)\n",
    "\n",
    "\n",
    "class Triangle:\n",
    "    def __init__(self, v1: Vertex, v2: Vertex, v3: Vertex):\n",
    "        self.v1 = v1\n",
    "        self.v2 = v2\n",
    "        self.v3 = v3\n",
    "\n",
    "\n",
    "    def area(self):\n",
    "        a = Distance(self.v1, self.v2)\n",
    "        b = Distance(self.v2, self.v3)\n",
    "        c = Distance(self.v3, self.v1)\n",
    "\n",
    "        s = (a + b + c) / 2\n",
    "\n",
    "        return math.sqrt(s * (s - a) * (s - b) * (s - c))\n",
    "    "
   ],
   "outputs": [],
   "execution_count": 8
  },
  {
   "cell_type": "markdown",
   "id": "e9e80f7f",
   "metadata": {},
   "source": [
    "Now that you've defined functions and classes, you can test them by creating specific instances of them below.  Create three vertices, a triangle using them, and then print the area of the resulting triangle."
   ]
  },
  {
   "cell_type": "code",
   "id": "a741e0a9",
   "metadata": {
    "ExecuteTime": {
     "end_time": "2025-09-05T20:43:26.624724Z",
     "start_time": "2025-09-05T20:43:26.618491Z"
    }
   },
   "source": [
    "v1 = Vertex(2, 4)\n",
    "v2 = Vertex(5, 0)\n",
    "v3 = Vertex(2, 3)\n",
    "triangle = Triangle(v1, v2, v3)\n",
    "\n",
    "print(triangle.area())\n"
   ],
   "outputs": [
    {
     "name": "stdout",
     "output_type": "stream",
     "text": [
      "1.4999999999999958\n"
     ]
    }
   ],
   "execution_count": 17
  }
 ],
 "metadata": {
  "kernelspec": {
   "display_name": "base",
   "language": "python",
   "name": "python3"
  },
  "language_info": {
   "codemirror_mode": {
    "name": "ipython",
    "version": 3
   },
   "file_extension": ".py",
   "mimetype": "text/x-python",
   "name": "python",
   "nbconvert_exporter": "python",
   "pygments_lexer": "ipython3",
   "version": "3.12.4"
  }
 },
 "nbformat": 4,
 "nbformat_minor": 5
}
